{
 "cells": [
  {
   "cell_type": "code",
   "execution_count": 1,
   "metadata": {},
   "outputs": [],
   "source": [
    "import os"
   ]
  },
  {
   "cell_type": "code",
   "execution_count": 2,
   "metadata": {},
   "outputs": [],
   "source": [
    "UNIMORPH_DIR = \"/home/alexeysorokin/data/Data/UniMorph/\"\n",
    "UD_DIR = \"/home/alexeysorokin/data/Data/UD2.3/\"\n",
    "UD_TEST_DIR = \"/home/alexeysorokin/data/Data/UD2.3/\""
   ]
  },
  {
   "cell_type": "code",
   "execution_count": 3,
   "metadata": {},
   "outputs": [
    {
     "data": {
      "text/plain": [
       "(77, 52)"
      ]
     },
     "execution_count": 3,
     "metadata": {},
     "output_type": "execute_result"
    }
   ],
   "source": [
    "good_languages, bad_languages = [], []\n",
    "for folder in os.listdir(UD_DIR):\n",
    "    language = folder[3:].split(\"-\")[0].lower()\n",
    "    if language in os.listdir(UNIMORPH_DIR):\n",
    "        to_append = good_languages\n",
    "    else:\n",
    "        to_append = bad_languages\n",
    "    to_append.append((folder, language))\n",
    "len(good_languages), len(bad_languages)"
   ]
  },
  {
   "cell_type": "code",
   "execution_count": 4,
   "metadata": {},
   "outputs": [],
   "source": [
    "def count_common(first, second):\n",
    "    count, correct_count, total = 0, 0, 0\n",
    "    for word, word_data in first.items():\n",
    "        word_tags = [tag for tag in word_data if tag.split(\",\")[0] in [\"VERB\", \"NOUN\", \"ADJ\"]]\n",
    "        total += len(word_tags)\n",
    "        if len(word_tags) > 0:\n",
    "            if word in second:\n",
    "                dict_tags = second[word]\n",
    "                count += len(word_tags)\n",
    "                correct_count += len([tag for tag in word_tags if tag in dict_tags])\n",
    "    return count, correct_count, total"
   ]
  },
  {
   "cell_type": "code",
   "execution_count": 5,
   "metadata": {},
   "outputs": [],
   "source": [
    "def count_with_guesser(guesser, data):\n",
    "    answer = []\n",
    "    count, correct_count = 0, 0\n",
    "    for word, word_data in data.items():\n",
    "        word_tags = [tag for tag in word_data if tag.split(\",\")[0] in [\"VERB\", \"NOUN\", \"ADJ\"]]\n",
    "        if len(word_tags) > 0:\n",
    "            dict_tags = guesser[word]\n",
    "            if dict_tags is not None and len(dict_tags) > 0:\n",
    "                count += len(word_tags)\n",
    "                correct_count += len([tag for tag in word_tags if tag in dict_tags])\n",
    "#             if any(isinstance(x, int) for x in dict_tags):\n",
    "#                 print(word, dict_tags)\n",
    "            answer.append((word, word_tags, guesser._unimorph_data[word], dict_tags))\n",
    "    return count, correct_count, answer"
   ]
  },
  {
   "cell_type": "code",
   "execution_count": 6,
   "metadata": {},
   "outputs": [],
   "source": [
    "%load_ext autoreload"
   ]
  },
  {
   "cell_type": "code",
   "execution_count": 7,
   "metadata": {},
   "outputs": [
    {
     "name": "stderr",
     "output_type": "stream",
     "text": [
      "Using TensorFlow backend.\n"
     ]
    }
   ],
   "source": [
    "%aimport neural_tagging.vectorizers\n",
    "%aimport neural_tagging.suffix_guesser\n",
    "from neural_tagging.vectorizers import read_unimorph_infile, read_ud_infile\n",
    "from neural_tagging.vectorizers import *\n",
    "from neural_tagging.suffix_guesser import SuffixGuesser"
   ]
  },
  {
   "cell_type": "code",
   "execution_count": 8,
   "metadata": {},
   "outputs": [],
   "source": [
    "good_languages = [(\"UD_Belarusian-HSE\", \"belarusian\")]"
   ]
  },
  {
   "cell_type": "code",
   "execution_count": 15,
   "metadata": {},
   "outputs": [],
   "source": [
    "GUESSER_PARAMS = {\"max_suffix_length\": 8, \"min_impurity\": 1e-3, \"symbols_to_remove\": \"́\", \"min_suffix_to_guess\": 2}"
   ]
  },
  {
   "cell_type": "code",
   "execution_count": 17,
   "metadata": {},
   "outputs": [
    {
     "name": "stdout",
     "output_type": "stream",
     "text": [
      "Belarusian-HSE 495 184 148 381 260 479\n"
     ]
    }
   ],
   "source": [
    "%autoreload 1\n",
    "\n",
    "for folder, language in sorted(good_languages):\n",
    "    curr_folder = os.path.join(UD_DIR, folder)\n",
    "    files = [x for x in os.listdir(curr_folder) if x.endswith(\".conllu\")]\n",
    "    train_file, dev_file = None, None\n",
    "    for infile in files:\n",
    "        if \"train\" in infile:\n",
    "            train_file = infile\n",
    "        elif \"dev\" in infile:\n",
    "            dev_file = infile\n",
    "        elif \"test\" in infile:\n",
    "            test_file = infile\n",
    "    if test_file is None:\n",
    "        if dev_file is not None:\n",
    "            train_files, test_file = [train_file], dev_file\n",
    "        else:\n",
    "            continue\n",
    "    else:\n",
    "        train_files = [train_file, dev_file] if dev_file is not None else [train_file]\n",
    "    unimorph_file = os.path.join(UNIMORPH_DIR, language)\n",
    "    test_file = os.path.join(curr_folder, test_file)\n",
    "    \n",
    "    train_files = [os.path.join(curr_folder, infile) for infile in train_files]\n",
    "    train_data = read_ud_infile(train_files)\n",
    "    unimorph_data = read_unimorph_infile(unimorph_file, by_lemmas=True, to_list=True)\n",
    "    dev_data = read_ud_infile(test_file)\n",
    "    \n",
    "    guesser_file = \"neural_tagging/models/guessers/{}\".format(language)\n",
    "    if not os.path.exists(guesser_file):\n",
    "        guesser = SuffixGuesser(**GUESSER_PARAMS).train(unimorph_data)\n",
    "        guesser.save(guesser_file)\n",
    "    vectorizer = MatchingVectorizer(verbose=0, guesser=guesser_file, guessed_weight=1.0,\n",
    "                                    prob_threshold=0.75, pos_count_threshold=50,\n",
    "                                    source_forms_to_add={\"V\": \"V;INF\"}).train(unimorph_file, train_files)\n",
    "    \n",
    "    common, corr_common, total = count_common(dev_data, train_data)\n",
    "    uni_common, uni_corr_common, answer = count_with_guesser(vectorizer, dev_data)\n",
    "    print(folder[3:], total, common, corr_common, uni_common, uni_corr_common, len(answer))\n",
    "    with open(\"neural_tagging/dump/matches/{}.match\".format(folder), \"w\", encoding=\"utf8\") as fout:\n",
    "        for word, word_tags, uni_tags, trans_tags in answer:\n",
    "#             if any(x in trans_tags for x in word_tags):\n",
    "#                 continue\n",
    "            if trans_tags is None:\n",
    "                trans_tags = []\n",
    "            if uni_tags is None:\n",
    "                uni_tags = []\n",
    "            fout.write(word + \"\\n\")\n",
    "            for tag in word_tags:\n",
    "                fout.write(\"{} {}\\n\".format(tag, tag in trans_tags))\n",
    "            fout.write(\"-\" * 50 + \"\\n\")\n",
    "            for tag in uni_tags:\n",
    "                fout.write(tag + \"\\n\")\n",
    "            fout.write(\"-\" * 50 + \"\\n\")\n",
    "            for tag in trans_tags:\n",
    "                fout.write(tag + \"\\n\")\n",
    "            fout.write(\"\\n\")"
   ]
  },
  {
   "cell_type": "code",
   "execution_count": null,
   "metadata": {},
   "outputs": [],
   "source": []
  }
 ],
 "metadata": {
  "kernelspec": {
   "display_name": "Python 3",
   "language": "python",
   "name": "python3"
  },
  "language_info": {
   "codemirror_mode": {
    "name": "ipython",
    "version": 3
   },
   "file_extension": ".py",
   "mimetype": "text/x-python",
   "name": "python",
   "nbconvert_exporter": "python",
   "pygments_lexer": "ipython3",
   "version": "3.6.7"
  }
 },
 "nbformat": 4,
 "nbformat_minor": 2
}
